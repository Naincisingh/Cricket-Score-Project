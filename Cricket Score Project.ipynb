{
 "cells": [
  {
   "cell_type": "code",
   "execution_count": 31,
   "metadata": {},
   "outputs": [
    {
     "name": "stdout",
     "output_type": "stream",
     "text": [
      "Requirement already satisfied: pillow in c:\\users\\dell\\appdata\\local\\programs\\python\\python310\\lib\\site-packages (10.1.0)\n",
      "Note: you may need to restart the kernel to use updated packages.\n"
     ]
    }
   ],
   "source": [
    "pip install pillow"
   ]
  },
  {
   "cell_type": "code",
   "execution_count": 32,
   "metadata": {},
   "outputs": [
    {
     "name": "stdout",
     "output_type": "stream",
     "text": [
      "Collecting BeautifulSoup\n",
      "  Using cached BeautifulSoup-3.2.2.tar.gz (32 kB)\n",
      "  Installing build dependencies: started\n",
      "  Installing build dependencies: finished with status 'done'\n",
      "  Getting requirements to build wheel: started\n",
      "  Getting requirements to build wheel: finished with status 'error'\n",
      "Note: you may need to restart the kernel to use updated packages.\n"
     ]
    },
    {
     "name": "stderr",
     "output_type": "stream",
     "text": [
      "  error: subprocess-exited-with-error\n",
      "  \n",
      "  × Getting requirements to build wheel did not run successfully.\n",
      "  │ exit code: 1\n",
      "  ╰─> [19 lines of output]\n",
      "      Traceback (most recent call last):\n",
      "        File \"c:\\Users\\dell\\AppData\\Local\\Programs\\Python\\Python310\\lib\\site-packages\\pip\\_vendor\\pyproject_hooks\\_in_process\\_in_process.py\", line 353, in <module>\n",
      "          main()\n",
      "        File \"c:\\Users\\dell\\AppData\\Local\\Programs\\Python\\Python310\\lib\\site-packages\\pip\\_vendor\\pyproject_hooks\\_in_process\\_in_process.py\", line 335, in main\n",
      "          json_out['return_val'] = hook(**hook_input['kwargs'])\n",
      "        File \"c:\\Users\\dell\\AppData\\Local\\Programs\\Python\\Python310\\lib\\site-packages\\pip\\_vendor\\pyproject_hooks\\_in_process\\_in_process.py\", line 118, in get_requires_for_build_wheel\n",
      "          return hook(config_settings)\n",
      "        File \"C:\\Users\\dell\\AppData\\Local\\Temp\\pip-build-env-06chlfz5\\overlay\\Lib\\site-packages\\setuptools\\build_meta.py\", line 325, in get_requires_for_build_wheel\n",
      "          return self._get_build_requires(config_settings, requirements=['wheel'])\n",
      "        File \"C:\\Users\\dell\\AppData\\Local\\Temp\\pip-build-env-06chlfz5\\overlay\\Lib\\site-packages\\setuptools\\build_meta.py\", line 295, in _get_build_requires\n",
      "          self.run_setup()\n",
      "        File \"C:\\Users\\dell\\AppData\\Local\\Temp\\pip-build-env-06chlfz5\\overlay\\Lib\\site-packages\\setuptools\\build_meta.py\", line 480, in run_setup\n",
      "          super(_BuildMetaLegacyBackend, self).run_setup(setup_script=setup_script)\n",
      "        File \"C:\\Users\\dell\\AppData\\Local\\Temp\\pip-build-env-06chlfz5\\overlay\\Lib\\site-packages\\setuptools\\build_meta.py\", line 311, in run_setup\n",
      "          exec(code, locals())\n",
      "        File \"<string>\", line 3\n",
      "          \"You're trying to run a very old release of Beautiful Soup under Python 3. This will not work.\"<>\"Please use Beautiful Soup 4, available through the pip package 'beautifulsoup4'.\"\n",
      "                                                                                                         ^^\n",
      "      SyntaxError: invalid syntax\n",
      "      [end of output]\n",
      "  \n",
      "  note: This error originates from a subprocess, and is likely not a problem with pip.\n",
      "error: subprocess-exited-with-error\n",
      "\n",
      "× Getting requirements to build wheel did not run successfully.\n",
      "│ exit code: 1\n",
      "╰─> See above for output.\n",
      "\n",
      "note: This error originates from a subprocess, and is likely not a problem with pip.\n"
     ]
    }
   ],
   "source": [
    "pip install BeautifulSoup"
   ]
  },
  {
   "cell_type": "code",
   "execution_count": 33,
   "metadata": {},
   "outputs": [
    {
     "name": "stdout",
     "output_type": "stream",
     "text": [
      "Requirement already satisfied: requests in c:\\users\\dell\\appdata\\local\\programs\\python\\python310\\lib\\site-packages (2.31.0)\n",
      "Requirement already satisfied: charset-normalizer<4,>=2 in c:\\users\\dell\\appdata\\local\\programs\\python\\python310\\lib\\site-packages (from requests) (3.3.2)\n",
      "Requirement already satisfied: idna<4,>=2.5 in c:\\users\\dell\\appdata\\local\\programs\\python\\python310\\lib\\site-packages (from requests) (3.6)\n",
      "Requirement already satisfied: urllib3<3,>=1.21.1 in c:\\users\\dell\\appdata\\local\\programs\\python\\python310\\lib\\site-packages (from requests) (2.1.0)\n",
      "Requirement already satisfied: certifi>=2017.4.17 in c:\\users\\dell\\appdata\\local\\programs\\python\\python310\\lib\\site-packages (from requests) (2023.11.17)\n",
      "Note: you may need to restart the kernel to use updated packages.\n"
     ]
    }
   ],
   "source": [
    "pip install requests"
   ]
  },
  {
   "cell_type": "code",
   "execution_count": 34,
   "metadata": {},
   "outputs": [
    {
     "name": "stdout",
     "output_type": "stream",
     "text": [
      "Requirement already satisfied: bs4 in c:\\users\\dell\\appdata\\local\\programs\\python\\python310\\lib\\site-packages (0.0.1)Note: you may need to restart the kernel to use updated packages.\n",
      "\n",
      "Requirement already satisfied: beautifulsoup4 in c:\\users\\dell\\appdata\\local\\programs\\python\\python310\\lib\\site-packages (from bs4) (4.12.2)\n",
      "Requirement already satisfied: soupsieve>1.2 in c:\\users\\dell\\appdata\\local\\programs\\python\\python310\\lib\\site-packages (from beautifulsoup4->bs4) (2.5)\n"
     ]
    }
   ],
   "source": [
    "pip install bs4"
   ]
  },
  {
   "cell_type": "code",
   "execution_count": 36,
   "metadata": {},
   "outputs": [
    {
     "ename": "TclError",
     "evalue": "image \"pyimage16\" doesn't exist",
     "output_type": "error",
     "traceback": [
      "\u001b[1;31m---------------------------------------------------------------------------\u001b[0m",
      "\u001b[1;31mTclError\u001b[0m                                  Traceback (most recent call last)",
      "Cell \u001b[1;32mIn[36], line 138\u001b[0m\n\u001b[0;32m    133\u001b[0m     rootWindow\u001b[38;5;241m.\u001b[39mmainloop()\n\u001b[0;32m    136\u001b[0m \u001b[38;5;28;01mif\u001b[39;00m \u001b[38;5;18m__name__\u001b[39m \u001b[38;5;241m==\u001b[39m \u001b[38;5;124m\"\u001b[39m\u001b[38;5;124m__main__\u001b[39m\u001b[38;5;124m\"\u001b[39m:\n\u001b[0;32m    137\u001b[0m     \u001b[38;5;66;03m# ==== calling main function\u001b[39;00m\n\u001b[1;32m--> 138\u001b[0m     \u001b[43mmain\u001b[49m\u001b[43m(\u001b[49m\u001b[43m)\u001b[49m \n",
      "Cell \u001b[1;32mIn[36], line 130\u001b[0m, in \u001b[0;36mmain\u001b[1;34m()\u001b[0m\n\u001b[0;32m    127\u001b[0m rootWindow \u001b[38;5;241m=\u001b[39m Tk()\n\u001b[0;32m    129\u001b[0m \u001b[38;5;66;03m# creating object for class cricket_score\u001b[39;00m\n\u001b[1;32m--> 130\u001b[0m obj \u001b[38;5;241m=\u001b[39m \u001b[43mCricketScore\u001b[49m\u001b[43m(\u001b[49m\u001b[43mrootWindow\u001b[49m\u001b[43m)\u001b[49m\n\u001b[0;32m    132\u001b[0m \u001b[38;5;66;03m# starting the gui\u001b[39;00m\n\u001b[0;32m    133\u001b[0m rootWindow\u001b[38;5;241m.\u001b[39mmainloop()\n",
      "Cell \u001b[1;32mIn[36], line 19\u001b[0m, in \u001b[0;36mCricketScore.__init__\u001b[1;34m(self, rootWindow)\u001b[0m\n\u001b[0;32m     17\u001b[0m \u001b[38;5;28mself\u001b[39m\u001b[38;5;241m.\u001b[39mrootWindow\u001b[38;5;241m.\u001b[39mgeometry(\u001b[38;5;124m'\u001b[39m\u001b[38;5;124m800x500\u001b[39m\u001b[38;5;124m'\u001b[39m)\n\u001b[0;32m     18\u001b[0m \u001b[38;5;28mself\u001b[39m\u001b[38;5;241m.\u001b[39mbg \u001b[38;5;241m=\u001b[39m ImageTk\u001b[38;5;241m.\u001b[39mPhotoImage(file\u001b[38;5;241m=\u001b[39m\u001b[38;5;124mr\u001b[39m\u001b[38;5;124m\"\u001b[39m\u001b[38;5;124mC:\u001b[39m\u001b[38;5;124m\\\u001b[39m\u001b[38;5;124mUsers\u001b[39m\u001b[38;5;124m\\\u001b[39m\u001b[38;5;124mdell\u001b[39m\u001b[38;5;124m\\\u001b[39m\u001b[38;5;124mDownloads\u001b[39m\u001b[38;5;124m\\\u001b[39m\u001b[38;5;124mCricket stadium wallpaper Royalty Free Vector Image.jpg\u001b[39m\u001b[38;5;124m\"\u001b[39m)\n\u001b[1;32m---> 19\u001b[0m bg \u001b[38;5;241m=\u001b[39m \u001b[43mLabel\u001b[49m\u001b[43m(\u001b[49m\u001b[38;5;28;43mself\u001b[39;49m\u001b[38;5;241;43m.\u001b[39;49m\u001b[43mrootWindow\u001b[49m\u001b[43m,\u001b[49m\u001b[43m \u001b[49m\u001b[43mimage\u001b[49m\u001b[38;5;241;43m=\u001b[39;49m\u001b[38;5;28;43mself\u001b[39;49m\u001b[38;5;241;43m.\u001b[39;49m\u001b[43mbg\u001b[49m\u001b[43m)\u001b[49m\u001b[38;5;241m.\u001b[39mplace(x\u001b[38;5;241m=\u001b[39m\u001b[38;5;241m0\u001b[39m, y\u001b[38;5;241m=\u001b[39m\u001b[38;5;241m0\u001b[39m)\n\u001b[0;32m     21\u001b[0m \u001b[38;5;66;03m# adding live matches text to gui\u001b[39;00m\n\u001b[0;32m     22\u001b[0m \u001b[38;5;28mself\u001b[39m\u001b[38;5;241m.\u001b[39mlabel \u001b[38;5;241m=\u001b[39m Label(\u001b[38;5;28mself\u001b[39m\u001b[38;5;241m.\u001b[39mrootWindow, text\u001b[38;5;241m=\u001b[39m\u001b[38;5;124m'\u001b[39m\u001b[38;5;124mLive Matches\u001b[39m\u001b[38;5;124m'\u001b[39m, font\u001b[38;5;241m=\u001b[39m(\u001b[38;5;124m\"\u001b[39m\u001b[38;5;124mtimes new roman\u001b[39m\u001b[38;5;124m\"\u001b[39m, \u001b[38;5;241m60\u001b[39m), compound\u001b[38;5;241m=\u001b[39m\u001b[38;5;124m'\u001b[39m\u001b[38;5;124mcenter\u001b[39m\u001b[38;5;124m'\u001b[39m)\u001b[38;5;241m.\u001b[39mpack(padx\u001b[38;5;241m=\u001b[39m\u001b[38;5;241m100\u001b[39m, pady\u001b[38;5;241m=\u001b[39m\u001b[38;5;241m50\u001b[39m)\n",
      "File \u001b[1;32mc:\\Users\\dell\\AppData\\Local\\Programs\\Python\\Python310\\lib\\tkinter\\__init__.py:3177\u001b[0m, in \u001b[0;36mLabel.__init__\u001b[1;34m(self, master, cnf, **kw)\u001b[0m\n\u001b[0;32m   3159\u001b[0m \u001b[38;5;28;01mdef\u001b[39;00m \u001b[38;5;21m__init__\u001b[39m(\u001b[38;5;28mself\u001b[39m, master\u001b[38;5;241m=\u001b[39m\u001b[38;5;28;01mNone\u001b[39;00m, cnf\u001b[38;5;241m=\u001b[39m{}, \u001b[38;5;241m*\u001b[39m\u001b[38;5;241m*\u001b[39mkw):\n\u001b[0;32m   3160\u001b[0m \u001b[38;5;250m    \u001b[39m\u001b[38;5;124;03m\"\"\"Construct a label widget with the parent MASTER.\u001b[39;00m\n\u001b[0;32m   3161\u001b[0m \n\u001b[0;32m   3162\u001b[0m \u001b[38;5;124;03m    STANDARD OPTIONS\u001b[39;00m\n\u001b[1;32m   (...)\u001b[0m\n\u001b[0;32m   3175\u001b[0m \n\u001b[0;32m   3176\u001b[0m \u001b[38;5;124;03m    \"\"\"\u001b[39;00m\n\u001b[1;32m-> 3177\u001b[0m     \u001b[43mWidget\u001b[49m\u001b[38;5;241;43m.\u001b[39;49m\u001b[38;5;21;43m__init__\u001b[39;49m\u001b[43m(\u001b[49m\u001b[38;5;28;43mself\u001b[39;49m\u001b[43m,\u001b[49m\u001b[43m \u001b[49m\u001b[43mmaster\u001b[49m\u001b[43m,\u001b[49m\u001b[43m \u001b[49m\u001b[38;5;124;43m'\u001b[39;49m\u001b[38;5;124;43mlabel\u001b[39;49m\u001b[38;5;124;43m'\u001b[39;49m\u001b[43m,\u001b[49m\u001b[43m \u001b[49m\u001b[43mcnf\u001b[49m\u001b[43m,\u001b[49m\u001b[43m \u001b[49m\u001b[43mkw\u001b[49m\u001b[43m)\u001b[49m\n",
      "File \u001b[1;32mc:\\Users\\dell\\AppData\\Local\\Programs\\Python\\Python310\\lib\\tkinter\\__init__.py:2601\u001b[0m, in \u001b[0;36mBaseWidget.__init__\u001b[1;34m(self, master, widgetName, cnf, kw, extra)\u001b[0m\n\u001b[0;32m   2599\u001b[0m \u001b[38;5;28;01mfor\u001b[39;00m k, v \u001b[38;5;129;01min\u001b[39;00m classes:\n\u001b[0;32m   2600\u001b[0m     \u001b[38;5;28;01mdel\u001b[39;00m cnf[k]\n\u001b[1;32m-> 2601\u001b[0m \u001b[38;5;28;43mself\u001b[39;49m\u001b[38;5;241;43m.\u001b[39;49m\u001b[43mtk\u001b[49m\u001b[38;5;241;43m.\u001b[39;49m\u001b[43mcall\u001b[49m\u001b[43m(\u001b[49m\n\u001b[0;32m   2602\u001b[0m \u001b[43m    \u001b[49m\u001b[43m(\u001b[49m\u001b[43mwidgetName\u001b[49m\u001b[43m,\u001b[49m\u001b[43m \u001b[49m\u001b[38;5;28;43mself\u001b[39;49m\u001b[38;5;241;43m.\u001b[39;49m\u001b[43m_w\u001b[49m\u001b[43m)\u001b[49m\u001b[43m \u001b[49m\u001b[38;5;241;43m+\u001b[39;49m\u001b[43m \u001b[49m\u001b[43mextra\u001b[49m\u001b[43m \u001b[49m\u001b[38;5;241;43m+\u001b[39;49m\u001b[43m \u001b[49m\u001b[38;5;28;43mself\u001b[39;49m\u001b[38;5;241;43m.\u001b[39;49m\u001b[43m_options\u001b[49m\u001b[43m(\u001b[49m\u001b[43mcnf\u001b[49m\u001b[43m)\u001b[49m\u001b[43m)\u001b[49m\n\u001b[0;32m   2603\u001b[0m \u001b[38;5;28;01mfor\u001b[39;00m k, v \u001b[38;5;129;01min\u001b[39;00m classes:\n\u001b[0;32m   2604\u001b[0m     k\u001b[38;5;241m.\u001b[39mconfigure(\u001b[38;5;28mself\u001b[39m, v)\n",
      "\u001b[1;31mTclError\u001b[0m: image \"pyimage16\" doesn't exist"
     ]
    }
   ],
   "source": [
    "#### Importing  all the required Libraries\n",
    "from tkinter import *\n",
    "from PIL import ImageTk\n",
    "from tkinter.ttk import Combobox\n",
    "from bs4 import BeautifulSoup\n",
    "import requests\n",
    "import re\n",
    "\n",
    "\n",
    "### Creating the Cricket Score Class\n",
    "class CricketScore:\n",
    "\n",
    "    # creating gui window\n",
    "    def __init__(self, rootWindow):\n",
    "        self.rootWindow = rootWindow\n",
    "        self.rootWindow.title(\"LIVE CRICKET SCORE\")\n",
    "        self.rootWindow.geometry('800x500')\n",
    "        self.bg = ImageTk.PhotoImage(file=r\"C:\\Users\\dell\\Downloads\\Cricket stadium wallpaper Royalty Free Vector Image.jpg\")\n",
    "        bg = Label(self.rootWindow, image=self.bg).place(x=0, y=0)\n",
    "\n",
    "        # adding live matches text to gui\n",
    "        self.label = Label(self.rootWindow, text='Live Matches', font=(\"times new roman\", 60), compound='center').pack(padx=100, pady=50)\n",
    "\n",
    "        # adding all live matches combobox in gui\n",
    "        self.var = StringVar()\n",
    "        self.matches = self.match_details()\n",
    "        self.data = [i for i in self.matches.keys()]\n",
    "        self.cb = Combobox(self.rootWindow, values=self.data, width=50)\n",
    "        self.cb.place(x=250,y=200)\n",
    "\n",
    "        # adding check score button to gui\n",
    "        self.b1 = Button(self.rootWindow, text=\"Check Score\", font=(\"times new roman\", 15), command=self.show_match_details).place(x=50, y=380)\n",
    "\n",
    "    # creating command for check score button\n",
    "    def select(self):\n",
    "        return self.cb.get()\n",
    "\n",
    "    # scrapping the data from cricbuzz.com\n",
    "    def scrap(self):\n",
    "        URL = \"https://www.cricbuzz.com/\"\n",
    "        page = requests.get(URL)\n",
    "        soup = BeautifulSoup(page.content, \"html.parser\")\n",
    "        results = soup.find(id=\"match_menu_container\")\n",
    "        scrap_results = results.find_all(\"li\", class_=\"cb-match-card\")\n",
    "        return scrap_results\n",
    "\n",
    "    # Load the cricket match details\n",
    "    def match_details(self):\n",
    "        details = self.scrap()\n",
    "        live_match = {}\n",
    "        for detail in details:\n",
    "            live_team_details = {}\n",
    "            summary = self.match_summary(detail)\n",
    "            if summary is not None:\n",
    "                match_header = self.match_header(detail).text\n",
    "                teams = self.teams_name(detail)\n",
    "                score_card = self.team_score(detail)\n",
    "                live_team_details['summary'] = summary.text\n",
    "                live_team_details['match_header'] = match_header\n",
    "                live_team_details['score_card'] = score_card[0] + \" :: \" + score_card[1]\n",
    "                live_match[teams[0] + \" vs \" + teams[1]] = live_team_details\n",
    "\n",
    "            \n",
    "        return live_match\n",
    "\n",
    "    # Load match summary\n",
    "    def match_summary(self, detail):\n",
    "        return detail.find(\"div\", class_=\"cb-mtch-crd-state\")\n",
    "    \n",
    "    # Load match header\n",
    "    def match_header(self, detail):\n",
    "        return detail.find(\"div\", class_=\"cb-mtch-crd-hdr\")\n",
    "\n",
    "    \n",
    "    # Load teams name\n",
    "    def teams_name(self, detail):\n",
    "        l = []\n",
    "        team1_details = detail.find(\"div\", class_=\"cb-hmscg-bat-txt\").text\n",
    "        team1_index = re.search(r\"\\d\", team1_details).start() if re.search(r\"\\d\", team1_details) else len(team1_details)\n",
    "        team2_details = detail.find(\"div\", class_=\"cb-hmscg-bwl-txt\").text\n",
    "        team2_index =  re.search(r\"\\d\", team2_details).start()  if re.search(r\"\\d\", team2_details) else len(team2_details)\n",
    "        l.append(team1_details[:team1_index])\n",
    "        l.append(team2_details[:team2_index])\n",
    "        return l\n",
    "\n",
    "    # Load team score\n",
    "    def team_score(self, detail):\n",
    "        l = []\n",
    "        team1_details = detail.find(\"div\", class_=\"cb-hmscg-bat-txt\").text\n",
    "        team2_details = detail.find(\"div\", class_=\"cb-hmscg-bwl-txt\").text\n",
    "        l.append(team1_details)\n",
    "        l.append(team2_details)\n",
    "        return l\n",
    "        \n",
    "\n",
    "    # Present details in  gui\n",
    "    def show_match_details(self):\n",
    "\n",
    "        # Building match details frame\n",
    "        self.frame1 = Frame(self.rootWindow, bg=\"#ADD8E6\")\n",
    "        self.frame1.place(x=180, y=280, width=600, height=200)\n",
    "\n",
    "        # Fetching details of match\n",
    "        x = self.matches[self.select()]\n",
    "\n",
    "        \n",
    "        # Displaying team names\n",
    "        Label(self.frame1, text=self.select() + \" - \" + x['match_header'], font=(\"times new roman\", 15, \"bold\"), bg=\"#ADD8E6\", fg=\"red\",\n",
    "                      bd=0).place(x=150, y=15)\n",
    "\n",
    "       \n",
    "        # Dispalying details of the match\n",
    "        Label(self.frame1, text=\"Score Details : \", font=(\"times new roman\", 10, \"bold\"), bg=\"#ADD8E6\", fg=\"black\",\n",
    "              bd=0).place(x=10, y=40)\n",
    "        Label(self.frame1, text=x['score_card'], font=(\"times new roman\", 10, \"bold\"), bg=\"#ADD8E6\", fg=\"black\",\n",
    "              bd=0).place(x=20, y=60)\n",
    "        \n",
    "        Label(self.frame1, text=\"Summary : \", font=(\"times new roman\", 10, \"bold\"), bg=\"#ADD8E6\", fg=\"black\",\n",
    "              bd=0).place(x=10, y=100)\n",
    "        Label(self.frame1, text=x['summary'], font=(\"times new roman\", 10, \"bold\"), bg=\"#ADD8E6\", fg=\"black\",\n",
    "              bd=0).place(x=20, y=120)\n",
    "        \n",
    "        \n",
    "# Main function - Start point of the application\n",
    "def main():\n",
    "    # creating tkinter window\n",
    "    rootWindow = Tk()\n",
    "    \n",
    "    # creating object for class cricket_score\n",
    "    obj = CricketScore(rootWindow)\n",
    "   \n",
    "    # starting the gui\n",
    "    rootWindow.mainloop()\n",
    "\n",
    "\n",
    "if __name__ == \"__main__\":\n",
    "    # ==== calling main function\n",
    "    main() "
   ]
  },
  {
   "cell_type": "code",
   "execution_count": null,
   "metadata": {},
   "outputs": [],
   "source": []
  }
 ],
 "metadata": {
  "kernelspec": {
   "display_name": "Python 3",
   "language": "python",
   "name": "python3"
  },
  "language_info": {
   "codemirror_mode": {
    "name": "ipython",
    "version": 3
   },
   "file_extension": ".py",
   "mimetype": "text/x-python",
   "name": "python",
   "nbconvert_exporter": "python",
   "pygments_lexer": "ipython3",
   "version": "3.10.7"
  }
 },
 "nbformat": 4,
 "nbformat_minor": 2
}
